{
 "cells": [
  {
   "cell_type": "markdown",
   "metadata": {},
   "source": [
    "# Kalman Filter Multi-step Prediction"
   ]
  },
  {
   "cell_type": "markdown",
   "metadata": {},
   "source": [
    "## Import and Initial Setup\n",
    "Set directory to load log files from."
   ]
  },
  {
   "cell_type": "code",
   "execution_count": null,
   "metadata": {},
   "outputs": [],
   "source": [
    "import os\n",
    "import pandas as pd\n",
    "import numpy as np\n",
    "import rospkg\n",
    "\n",
    "# Create a RosPack object\n",
    "rospack = rospkg.RosPack()\n",
    "\n",
    "# Get the path to the package this script is in\n",
    "package_path = rospack.get_path('hri_predict_ros')\n",
    "\n",
    "# Define the path to the logs directory\n",
    "log_dir = os.path.join(package_path, 'logs')\n",
    "if not os.path.exists(log_dir):\n",
    "    os.makedirs(log_dir)\n",
    "\n",
    "# Specify the path to the rosbag files and the gui data\n",
    "bag_dir = os.path.join(log_dir, 'bag')\n",
    "gui_dir = os.path.join(log_dir, 'gui_data')\n",
    "npz_dir = os.path.join(log_dir, 'npz')\n",
    "\n",
    "# Define the path to the plots directory\n",
    "plot_dir = os.path.join(package_path, 'plots')\n",
    "if not os.path.exists(plot_dir):\n",
    "    os.makedirs(plot_dir)"
   ]
  },
  {
   "cell_type": "markdown",
   "metadata": {},
   "source": []
  }
 ],
 "metadata": {
  "kernelspec": {
   "display_name": "Python 3",
   "language": "python",
   "name": "python3"
  },
  "language_info": {
   "name": "python",
   "version": "3.8.10"
  }
 },
 "nbformat": 4,
 "nbformat_minor": 2
}
