{
 "cells": [
  {
   "cell_type": "code",
   "execution_count": 15,
   "metadata": {},
   "outputs": [
    {
     "name": "stdout",
     "output_type": "stream",
     "text": [
      "Loading file 1/22\n",
      "Loading file 2/22\n",
      "Loading file 3/22\n",
      "Loading file 4/22\n",
      "Loading file 5/22\n",
      "Loading file 6/22\n",
      "Loading file 7/22\n",
      "Loading file 8/22\n",
      "Loading file 9/22\n",
      "Loading file 10/22\n",
      "Loading file 11/22\n",
      "Loading file 12/22\n",
      "Loading file 13/22\n",
      "Loading file 14/22\n",
      "Loading file 15/22\n",
      "Loading file 16/22\n",
      "Loading file 17/22\n",
      "Loading file 18/22\n",
      "Loading file 19/22\n",
      "Loading file 20/22\n",
      "Loading file 21/22\n",
      "Loading file 22/22\n"
     ]
    }
   ],
   "source": [
    "import os\n",
    "import pandas as pd\n",
    "import numpy as np\n",
    "import rospkg\n",
    "\n",
    "# Create a RosPack object\n",
    "rospack = rospkg.RosPack()\n",
    "\n",
    "# Get the path to the package this script is in\n",
    "package_path = rospack.get_path('hri_predict_ros')\n",
    "\n",
    "# Define the path to the logs directory\n",
    "log_dir = os.path.join(package_path, 'logs')\n",
    "\n",
    "dataframes = []\n",
    "\n",
    "# Get all .npz files in the logs directory\n",
    "npz_files = [file for file in os.listdir(log_dir) if file.endswith('.npz')]\n",
    "num_files = len(npz_files) # Number of .npz files in the logs directory\n",
    "\n",
    "# Load each .npz file and store the values in a pandas dataframe\n",
    "for iter, file in enumerate(npz_files):\n",
    "    print(f'Loading file {iter+1}/{num_files}')\n",
    "    file_path = os.path.join(log_dir, file)\n",
    "    data = np.load(file_path)\n",
    "    pred_human_x = data['pred_human_x']\n",
    "\n",
    "    dataframe = pd.DataFrame(data=pred_human_x)\n",
    "    \n",
    "    # TODO: fix importing files in dataframes\n",
    "\n",
    "    pred_human_var = data['pred_human_var']\n",
    "    filt_cov_mat = data['filt_cov_mat']\n",
    "\n",
    "    # Create a pandas dataframe from the data\n",
    "    # dataframe = pd.DataFrame(data={'pred_human_x': [pred_human_x],\n",
    "    #                                'pred_human_var': [pred_human_var],\n",
    "    #                                'filt_cov_mat': [filt_cov_mat]})\n",
    "\n",
    "    dataframes.append(dataframe)\n",
    "\n",
    "\n",
    "\n",
    "\n",
    "# Now you have a list of pandas dataframes containing the values from each .npz file"
   ]
  }
 ],
 "metadata": {
  "kernelspec": {
   "display_name": "Python 3",
   "language": "python",
   "name": "python3"
  },
  "language_info": {
   "codemirror_mode": {
    "name": "ipython",
    "version": 3
   },
   "file_extension": ".py",
   "mimetype": "text/x-python",
   "name": "python",
   "nbconvert_exporter": "python",
   "pygments_lexer": "ipython3",
   "version": "3.8.10"
  }
 },
 "nbformat": 4,
 "nbformat_minor": 2
}
